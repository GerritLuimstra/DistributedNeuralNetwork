{
 "cells": [
  {
   "cell_type": "code",
   "execution_count": null,
   "metadata": {
    "scrolled": true
   },
   "outputs": [
    {
     "name": "stdout",
     "output_type": "stream",
     "text": [
      "Server performance after merge with mnist1525444510.9865973: 0.9401\n",
      "Server performance after merge with mnist1525444567.1967733: 0.9416\n",
      "Server performance after merge with mnist1525444626.6895838: 0.945\n",
      "Server performance after merge with mnist1525444683.1159678: 0.9435\n",
      "Server performance after merge with mnist1525444737.431835: 0.9453\n",
      "Server performance after merge with mnist1525444790.946187: 0.9466\n",
      "Server performance after merge with mnist1525444843.6395044: 0.9442\n",
      "Server performance after merge with mnist1525444898.636411: 0.9415\n",
      "Server performance after merge with mnist1525446266.6451032: 0.9445\n",
      "Server performance after merge with mnist1525446321.1786842: 0.9447\n",
      "Server performance after merge with mnist1525446375.3714283: 0.9464\n",
      "Server performance after merge with mnist1525446433.1926417: 0.9435\n",
      "Server performance after merge with mnist1525446522.1355023: 0.9429\n",
      "Server performance after merge with mnist1525446576.4898996: 0.9449\n",
      "Server performance after merge with mnist1525446629.0851276: 0.9461\n"
     ]
    }
   ],
   "source": [
    "from NeuralNetwork import NeuralNetwork, train_nn, performance, split\n",
    "from _functions import *\n",
    "import numpy as np\n",
    "from time import time\n",
    "\n",
    "start = time()\n",
    "\n",
    "# Get a list of all the client's models\n",
    "client_models = get_dirlist(\"models\")\n",
    "client_models.remove(\"server\")\n",
    "\n",
    "# Find the \"servers\" weights\n",
    "# This, by default is the first trained model that a client spits out\n",
    "serverWIH= np.load(\"models/\" + client_models[0] +\"/wih.npy\")\n",
    "serverWHO = np.load(\"models/\" + client_models[0]+ \"/who.npy\")\n",
    "\n",
    "totalAcc = 0\n",
    "\n",
    "# Combine/Merge all the models\n",
    "for model in client_models:\n",
    "    \n",
    "    clientWIH = np.load(\"models/\" + model +\"/wih.npy\")\n",
    "    clientWHO = np.load(\"models/\" + model +\"/who.npy\")\n",
    "    \n",
    "    serverWIH = np.mean( np.array([ serverWIH, clientWIH ]), axis=0 )\n",
    "    serverWHO = np.mean( np.array([ serverWHO, clientWHO ]), axis=0 )\n",
    "    \n",
    "    # number of input, hidden and output nodes\n",
    "    input_nodes = 784\n",
    "    hidden_nodes = 200\n",
    "    output_nodes = 10\n",
    "    learning_rate = 0.1\n",
    "\n",
    "    # Create the neural network object\n",
    "    n = NeuralNetwork(input_nodes, hidden_nodes, output_nodes, learning_rate)\n",
    "    n.update_info(serverWIH, serverWHO)\n",
    "    \n",
    "    perf = performance(n)\n",
    "    totalAcc += perf\n",
    "    print(\"Server performance after merge with \" + model +\": \" + str(perf))\n",
    "\n",
    "print(\"Final server performance: \" + str(round(totalAcc / len(client_models), ndigits=3)))\n",
    "print(\"\")\n",
    "print(\"Merging took: \" + str(round(time() - start, ndigits = 3)) + \" seconds\")"
   ]
  },
  {
   "cell_type": "code",
   "execution_count": null,
   "metadata": {},
   "outputs": [],
   "source": []
  }
 ],
 "metadata": {
  "kernelspec": {
   "display_name": "Python 3",
   "language": "python",
   "name": "python3"
  },
  "language_info": {
   "codemirror_mode": {
    "name": "ipython",
    "version": 3
   },
   "file_extension": ".py",
   "mimetype": "text/x-python",
   "name": "python",
   "nbconvert_exporter": "python",
   "pygments_lexer": "ipython3",
   "version": "3.6.4"
  }
 },
 "nbformat": 4,
 "nbformat_minor": 2
}
