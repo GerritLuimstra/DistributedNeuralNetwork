{
 "cells": [
  {
   "cell_type": "code",
   "execution_count": 1,
   "metadata": {
    "scrolled": true
   },
   "outputs": [
    {
     "name": "stdout",
     "output_type": "stream",
     "text": [
      "Processing: mnist1525388001.634999\n",
      "0.9174\n",
      "Processing: mnist1525388042.083657\n",
      "0.9251\n",
      "Processing: mnist1525388079.0794952\n",
      "0.9266\n",
      "Processing: mnist1525388116.9827118\n",
      "0.9309\n",
      "Processing: mnist1525388154.2147934\n",
      "0.9311\n",
      "Processing: mnist1525388193.7812219\n",
      "0.9298\n",
      "Processing: mnist1525388233.763948\n",
      "0.9331\n",
      "Processing: mnist1525388273.4025805\n",
      "0.9291\n",
      "Processing: mnist1525388313.8517563\n",
      "0.933\n",
      "Processing: mnist1525388355.4505036\n",
      "0.9324\n",
      "Processing: mnist1525388395.008301\n",
      "0.9307\n",
      "Processing: mnist1525388435.2182312\n",
      "0.9331\n",
      "Processing: mnist1525388476.8124707\n",
      "0.9305\n",
      "Processing: mnist1525388516.1022744\n",
      "0.93\n",
      "Processing: mnist1525388557.014871\n",
      "0.9293\n",
      "Processing: mnist1525388598.442956\n",
      "0.9231\n"
     ]
    }
   ],
   "source": [
    "from NeuralNetwork import NeuralNetwork, train_nn, performance, split\n",
    "import numpy as np\n",
    "import os\n",
    "from time import time\n",
    "\n",
    "def get_dirlist(rootdir):\n",
    "    dirlist = []\n",
    "    with os.scandir(rootdir) as rit:\n",
    "        for entry in rit:\n",
    "            if not entry.name.startswith('.') and entry.is_dir():\n",
    "                dirlist.append(entry.name)\n",
    "\n",
    "    dirlist.sort() # Optional, in case you want sorted directory names\n",
    "    return dirlist\n",
    "\n",
    "# Get a list of all the client's models\n",
    "client_models = get_dirlist(\"models\")\n",
    "client_models.remove(\"server\")\n",
    "\n",
    "# Find the \"servers\" weights\n",
    "# This, by default is the first trained model that a client spits out\n",
    "serverWIH= np.load(\"models/\" + client_models[0] +\"/wih.npy\")\n",
    "serverWHO = np.load(\"models/\" + client_models[0]+ \"/who.npy\")\n",
    "\n",
    "highestAcc = 0\n",
    "winningModel = \"No model\"\n",
    "\n",
    "# Combine/Merge all the models\n",
    "for model in client_models:\n",
    "    print(\"Processing: \" + str(model))\n",
    "    start = time()\n",
    "    \n",
    "    clientWIH = np.load(\"models/\" + model +\"/wih.npy\")\n",
    "    clientWHO = np.load(\"models/\" + model +\"/who.npy\")\n",
    "    \n",
    "    serverWIH = np.mean( np.array([ serverWIH, clientWIH ]), axis=0 )\n",
    "    serverWHO = np.mean( np.array([ serverWHO, clientWHO ]), axis=0 )\n",
    "    \n",
    "    # number of input, hidden and output nodes\n",
    "    input_nodes = 784\n",
    "    hidden_nodes = 200\n",
    "    output_nodes = 10\n",
    "    learning_rate = 0.1\n",
    "\n",
    "    # Create the neural network object\n",
    "    n = NeuralNetwork(input_nodes, hidden_nodes, output_nodes, learning_rate)\n",
    "    n.update_info(serverWIH, serverWHO)\n",
    "    \n",
    "    print(performance(n))\n",
    "\n"
   ]
  },
  {
   "cell_type": "code",
   "execution_count": null,
   "metadata": {},
   "outputs": [],
   "source": []
  }
 ],
 "metadata": {
  "kernelspec": {
   "display_name": "Python 3",
   "language": "python",
   "name": "python3"
  },
  "language_info": {
   "codemirror_mode": {
    "name": "ipython",
    "version": 3
   },
   "file_extension": ".py",
   "mimetype": "text/x-python",
   "name": "python",
   "nbconvert_exporter": "python",
   "pygments_lexer": "ipython3",
   "version": "3.6.4"
  }
 },
 "nbformat": 4,
 "nbformat_minor": 2
}
