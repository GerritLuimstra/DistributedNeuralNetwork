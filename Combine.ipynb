{
 "cells": [
  {
   "cell_type": "code",
   "execution_count": 4,
   "metadata": {
    "scrolled": true
   },
   "outputs": [
    {
     "name": "stdout",
     "output_type": "stream",
     "text": [
      "Server performance after merge: 0.9174\n",
      "Server performance after merge: 0.9251\n",
      "Server performance after merge: 0.9266\n",
      "Server performance after merge: 0.9309\n",
      "Server performance after merge: 0.9311\n",
      "Server performance after merge: 0.9298\n",
      "Server performance after merge: 0.9331\n",
      "Server performance after merge: 0.9291\n",
      "Server performance after merge: 0.933\n",
      "Server performance after merge: 0.9324\n",
      "Server performance after merge: 0.9307\n",
      "Server performance after merge: 0.9331\n",
      "Server performance after merge: 0.9305\n",
      "Server performance after merge: 0.93\n",
      "Server performance after merge: 0.9293\n",
      "Server performance after merge: 0.9231\n"
     ]
    }
   ],
   "source": [
    "from NeuralNetwork import NeuralNetwork, train_nn, performance, split\n",
    "from _functions import *\n",
    "import numpy as np\n",
    "from time import time\n",
    "\n",
    "\n",
    "# Get a list of all the client's models\n",
    "client_models = get_dirlist(\"models\")\n",
    "client_models.remove(\"server\")\n",
    "\n",
    "# Find the \"servers\" weights\n",
    "# This, by default is the first trained model that a client spits out\n",
    "serverWIH= np.load(\"models/\" + client_models[0] +\"/wih.npy\")\n",
    "serverWHO = np.load(\"models/\" + client_models[0]+ \"/who.npy\")\n",
    "\n",
    "# Combine/Merge all the models\n",
    "for model in client_models:\n",
    "    \n",
    "    clientWIH = np.load(\"models/\" + model +\"/wih.npy\")\n",
    "    clientWHO = np.load(\"models/\" + model +\"/who.npy\")\n",
    "    \n",
    "    serverWIH = np.mean( np.array([ serverWIH, clientWIH ]), axis=0 )\n",
    "    serverWHO = np.mean( np.array([ serverWHO, clientWHO ]), axis=0 )\n",
    "    \n",
    "    # number of input, hidden and output nodes\n",
    "    input_nodes = 784\n",
    "    hidden_nodes = 200\n",
    "    output_nodes = 10\n",
    "    learning_rate = 0.1\n",
    "\n",
    "    # Create the neural network object\n",
    "    n = NeuralNetwork(input_nodes, hidden_nodes, output_nodes, learning_rate)\n",
    "    n.update_info(serverWIH, serverWHO)\n",
    "    \n",
    "    print(\"Server performance after merge: \" + str(performance(n)))\n",
    "\n"
   ]
  },
  {
   "cell_type": "code",
   "execution_count": null,
   "metadata": {},
   "outputs": [],
   "source": []
  }
 ],
 "metadata": {
  "kernelspec": {
   "display_name": "Python 3",
   "language": "python",
   "name": "python3"
  },
  "language_info": {
   "codemirror_mode": {
    "name": "ipython",
    "version": 3
   },
   "file_extension": ".py",
   "mimetype": "text/x-python",
   "name": "python",
   "nbconvert_exporter": "python",
   "pygments_lexer": "ipython3",
   "version": "3.6.4"
  }
 },
 "nbformat": 4,
 "nbformat_minor": 2
}
