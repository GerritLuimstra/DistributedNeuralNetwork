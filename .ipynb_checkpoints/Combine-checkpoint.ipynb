{
 "cells": [
  {
   "cell_type": "code",
   "execution_count": 4,
   "metadata": {
    "scrolled": true
   },
   "outputs": [
    {
     "name": "stdout",
     "output_type": "stream",
     "text": [
      "Server performance after merge: 0.9401\n",
      "Server performance after merge: 0.9416\n",
      "Server performance after merge: 0.945\n",
      "Server performance after merge: 0.9435\n",
      "Server performance after merge: 0.9453\n",
      "Server performance after merge: 0.9466\n",
      "Server performance after merge: 0.9442\n",
      "Server performance after merge: 0.9415\n"
     ]
    },
    {
     "ename": "TypeError",
     "evalue": "'ndigits' is an invalid keyword argument for this function",
     "output_type": "error",
     "traceback": [
      "\u001b[1;31m---------------------------------------------------------------------------\u001b[0m",
      "\u001b[1;31mTypeError\u001b[0m                                 Traceback (most recent call last)",
      "\u001b[1;32m<ipython-input-4-f5613261678f>\u001b[0m in \u001b[0;36m<module>\u001b[1;34m()\u001b[0m\n\u001b[0;32m     39\u001b[0m     \u001b[0mprint\u001b[0m\u001b[1;33m(\u001b[0m\u001b[1;34m\"Server performance after merge: \"\u001b[0m \u001b[1;33m+\u001b[0m \u001b[0mstr\u001b[0m\u001b[1;33m(\u001b[0m\u001b[0mperf\u001b[0m\u001b[1;33m)\u001b[0m\u001b[1;33m)\u001b[0m\u001b[1;33m\u001b[0m\u001b[0m\n\u001b[0;32m     40\u001b[0m \u001b[1;33m\u001b[0m\u001b[0m\n\u001b[1;32m---> 41\u001b[1;33m \u001b[0mprint\u001b[0m\u001b[1;33m(\u001b[0m\u001b[1;34m\"Final/Average performance: \"\u001b[0m \u001b[1;33m+\u001b[0m \u001b[0mstr\u001b[0m\u001b[1;33m(\u001b[0m\u001b[0mround\u001b[0m\u001b[1;33m(\u001b[0m\u001b[0mtotalAcc\u001b[0m \u001b[1;33m/\u001b[0m \u001b[0mlen\u001b[0m\u001b[1;33m(\u001b[0m\u001b[0mclient_models\u001b[0m\u001b[1;33m)\u001b[0m\u001b[1;33m)\u001b[0m\u001b[1;33m,\u001b[0m \u001b[0mndigits\u001b[0m\u001b[1;33m=\u001b[0m\u001b[1;36m3\u001b[0m\u001b[1;33m)\u001b[0m\u001b[1;33m)\u001b[0m\u001b[1;33m\u001b[0m\u001b[0m\n\u001b[0m",
      "\u001b[1;31mTypeError\u001b[0m: 'ndigits' is an invalid keyword argument for this function"
     ]
    }
   ],
   "source": [
    "from NeuralNetwork import NeuralNetwork, train_nn, performance, split\n",
    "from _functions import *\n",
    "import numpy as np\n",
    "from time import time\n",
    "\n",
    "\n",
    "# Get a list of all the client's models\n",
    "client_models = get_dirlist(\"models\")\n",
    "client_models.remove(\"server\")\n",
    "\n",
    "# Find the \"servers\" weights\n",
    "# This, by default is the first trained model that a client spits out\n",
    "serverWIH= np.load(\"models/\" + client_models[0] +\"/wih.npy\")\n",
    "serverWHO = np.load(\"models/\" + client_models[0]+ \"/who.npy\")\n",
    "\n",
    "totalAcc = 0\n",
    "\n",
    "# Combine/Merge all the models\n",
    "for model in client_models:\n",
    "    \n",
    "    clientWIH = np.load(\"models/\" + model +\"/wih.npy\")\n",
    "    clientWHO = np.load(\"models/\" + model +\"/who.npy\")\n",
    "    \n",
    "    serverWIH = np.mean( np.array([ serverWIH, clientWIH ]), axis=0 )\n",
    "    serverWHO = np.mean( np.array([ serverWHO, clientWHO ]), axis=0 )\n",
    "    \n",
    "    # number of input, hidden and output nodes\n",
    "    input_nodes = 784\n",
    "    hidden_nodes = 200\n",
    "    output_nodes = 10\n",
    "    learning_rate = 0.1\n",
    "\n",
    "    # Create the neural network object\n",
    "    n = NeuralNetwork(input_nodes, hidden_nodes, output_nodes, learning_rate)\n",
    "    n.update_info(serverWIH, serverWHO)\n",
    "    \n",
    "    perf = performance(n)\n",
    "    totalAcc += perf\n",
    "    print(\"Server performance after merge: \" + str(perf))\n",
    "\n",
    "print(\"Final/Average performance: \" + str(round(totalAcc / len(client_models), ndigits=3)))"
   ]
  },
  {
   "cell_type": "code",
   "execution_count": null,
   "metadata": {},
   "outputs": [],
   "source": []
  }
 ],
 "metadata": {
  "kernelspec": {
   "display_name": "Python 3",
   "language": "python",
   "name": "python3"
  },
  "language_info": {
   "codemirror_mode": {
    "name": "ipython",
    "version": 3
   },
   "file_extension": ".py",
   "mimetype": "text/x-python",
   "name": "python",
   "nbconvert_exporter": "python",
   "pygments_lexer": "ipython3",
   "version": "3.6.4"
  }
 },
 "nbformat": 4,
 "nbformat_minor": 2
}
