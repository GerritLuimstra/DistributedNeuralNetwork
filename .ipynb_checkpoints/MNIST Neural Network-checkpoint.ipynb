{
 "cells": [
  {
   "cell_type": "code",
   "execution_count": 14,
   "metadata": {},
   "outputs": [],
   "source": [
    "import numpy\n",
    "# scipy.special for the sigmoid function expit()\n",
    "import scipy.special\n",
    "import matplotlib.pyplot\n",
    "import os\n",
    "import time\n",
    "\n",
    "%matplotlib inline\n",
    "# neural network class definition\n",
    "class neuralNetwork:\n",
    "    \n",
    "    \n",
    "    # initialise the neural network\n",
    "    def __init__(self, inputnodes, hiddennodes, outputnodes, learningrate):\n",
    "        # set number of nodes in each input, hidden, output layer\n",
    "        self.inodes = inputnodes\n",
    "        self.hnodes = hiddennodes\n",
    "        self.onodes = outputnodes\n",
    "        \n",
    "        self.wih = numpy.random.normal(0.0, pow(self.inodes, -0.5), (self.hnodes, self.inodes))\n",
    "        self.who = numpy.random.normal(0.0, pow(self.hnodes, -0.5), (self.onodes, self.hnodes))\n",
    "\n",
    "        # learning rate\n",
    "        self.lr = learningrate\n",
    "        \n",
    "        # activation function is the sigmoid function\n",
    "        self.activation_function = lambda x: scipy.special.expit(x)\n",
    "        \n",
    "        pass\n",
    "\n",
    "    \n",
    "    # train the neural network\n",
    "    def train(self, inputs_list, targets_list):\n",
    "        # convert inputs list to 2d array\n",
    "        inputs = numpy.array(inputs_list, ndmin=2).T\n",
    "        targets = numpy.array(targets_list, ndmin=2).T\n",
    "        \n",
    "        # calculate signals into hidden layer\n",
    "        hidden_inputs = numpy.dot(self.wih, inputs)\n",
    "        # calculate the signals emerging from hidden layer\n",
    "        hidden_outputs = self.activation_function(hidden_inputs)\n",
    "        \n",
    "        # calculate signals into final output layer\n",
    "        final_inputs = numpy.dot(self.who, hidden_outputs)\n",
    "        # calculate the signals emerging from final output layer\n",
    "        final_outputs = self.activation_function(final_inputs)\n",
    "        \n",
    "        # output layer error is the (target - actual)\n",
    "        output_errors = targets - final_outputs\n",
    "        # hidden layer error is the output_errors, split by weights, recombined at hidden nodes\n",
    "        hidden_errors = numpy.dot(self.who.T, output_errors) \n",
    "        \n",
    "        # update the weights for the links between the hidden and output layers\n",
    "        self.who += self.lr * numpy.dot((output_errors * final_outputs * (1.0 - final_outputs)), numpy.transpose(hidden_outputs))\n",
    "        \n",
    "        # update the weights for the links between the input and hidden layers\n",
    "        self.wih += self.lr * numpy.dot((hidden_errors * hidden_outputs * (1.0 - hidden_outputs)), numpy.transpose(inputs))\n",
    "        \n",
    "        pass\n",
    "    \n",
    "    def get_weights(self):\n",
    "        return (self.wih, self.who)\n",
    "    \n",
    "    def saveModel(self, modelname):\n",
    "        if not os.path.isdir(modelname):\n",
    "            modelname = modelname + str(time.time())\n",
    "            os.makedirs(modelname)\n",
    "        numpy.save(modelname + \"\\\\\" + str(\"wih\"), self.wih)\n",
    "        numpy.save(modelname + \"\\\\\" + str(\"who\"), self.who)\n",
    "        \n",
    "    def loadModel(self, modelname):\n",
    "        self.wih = numpy.load(modelname + \"/wih.npy\")\n",
    "        self.who = numpy.load(modelname + \"/who.npy\")\n",
    "    \n",
    "    # query the neural network\n",
    "    def query(self, inputs_list):\n",
    "        # convert inputs list to 2d array\n",
    "        inputs = numpy.array(inputs_list, ndmin=2).T\n",
    "        \n",
    "        # calculate signals into hidden layer\n",
    "        hidden_inputs = numpy.dot(self.wih, inputs)\n",
    "        # calculate the signals emerging from hidden layer\n",
    "        hidden_outputs = self.activation_function(hidden_inputs)\n",
    "        \n",
    "        # calculate signals into final output layer\n",
    "        final_inputs = numpy.dot(self.who, hidden_outputs)\n",
    "        # calculate the signals emerging from final output layer\n",
    "        final_outputs = self.activation_function(final_inputs)\n",
    "        \n",
    "        return final_outputs\n",
    "\n"
   ]
  },
  {
   "cell_type": "code",
   "execution_count": 2,
   "metadata": {},
   "outputs": [
    {
     "name": "stdout",
     "output_type": "stream",
     "text": [
      "[[ 0.02449745  0.01355563 -0.00968997 ... -0.00096125  0.07622864\n",
      "  -0.01608599]\n",
      " [ 0.03895468  0.00034682  0.05793416 ... -0.04231925  0.03358581\n",
      "   0.02291454]\n",
      " [ 0.0735631   0.05794886 -0.02281571 ...  0.04677578 -0.06683916\n",
      "   0.01204523]\n",
      " ...\n",
      " [ 0.03093428 -0.04969668 -0.00190013 ... -0.0416802  -0.05235602\n",
      "   0.03120797]\n",
      " [-0.02460428 -0.0140899  -0.04809533 ... -0.0338522   0.01594332\n",
      "   0.02784381]\n",
      " [ 0.00741507  0.00908753 -0.00311976 ...  0.05589885  0.04503836\n",
      "  -0.01902498]]\n",
      "[[ 0.04128539  0.01094865  0.09758048 ... -0.03842493 -0.05436761\n",
      "   0.00027201]\n",
      " [-0.08486978  0.00794343  0.1207574  ...  0.11501784 -0.01953939\n",
      "  -0.04662072]\n",
      " [-0.0512148   0.0763989  -0.09772571 ...  0.08432414  0.00369496\n",
      "   0.13557444]\n",
      " ...\n",
      " [ 0.0790156   0.10250038 -0.02419265 ... -0.12879906 -0.07933774\n",
      "   0.03248463]\n",
      " [ 0.05652156 -0.0063544  -0.02817128 ...  0.05290802  0.13392405\n",
      "   0.07636539]\n",
      " [-0.13053709  0.12072856  0.08749056 ... -0.04645524  0.02355242\n",
      "   0.02852986]]\n"
     ]
    }
   ],
   "source": [
    "# number of input, hidden and output nodes\n",
    "input_nodes = 784\n",
    "hidden_nodes = 200\n",
    "output_nodes = 10\n",
    "# learning rate is\n",
    "learning_rate = 0.1\n",
    "# create instance of neural network\n",
    "n = neuralNetwork(input_nodes,hidden_nodes,output_nodes, learning_rate)\n",
    "print(n.get_weights()[0])\n",
    "print(n.get_weights()[1])"
   ]
  },
  {
   "cell_type": "code",
   "execution_count": 3,
   "metadata": {},
   "outputs": [],
   "source": [
    "# load the mnist training data CSV file into a list\n",
    "#training_data_file = open(\"MNIST/mnist_train.csv\", 'r')\n",
    "#training_data_list = training_data_file.readlines()\n",
    "#training_data_file.close()\n",
    "#how many time should the data run\n",
    "epochs=5\n",
    "# train the neural network\n",
    "# go through all records in the training data set\n",
    "for e in range(epochs):\n",
    "    break\n",
    "    for record in training_data_list:\n",
    "        # split the record by the ',' commas\n",
    "        all_values = record.split(',')\n",
    "        # Dividing the raw inputs which are in the range 0-255 by 255 will bring them into the range 0-1. \n",
    "        #We then need to multiply by 0.99 to bring them into the range 0.0 - 0.99. \n",
    "        #We then add 0.01 to shift them up to the desired range 0.01 to 1.00.\n",
    "        inputs = (numpy.asfarray(all_values[1:]) / 255.0 * 0.99) + 0.01\n",
    "        # create the target output values (all 0.01, except the desired label which is 0.99)\n",
    "        targets = numpy.zeros(output_nodes) + 0.01\n",
    "        # all_values[0] is the target label for this record\n",
    "        targets[int(all_values[0])] = 0.99\n",
    "        n.train(inputs, targets)\n",
    "        pass\n",
    "    pass"
   ]
  },
  {
   "cell_type": "code",
   "execution_count": null,
   "metadata": {},
   "outputs": [],
   "source": []
  },
  {
   "cell_type": "code",
   "execution_count": null,
   "metadata": {},
   "outputs": [],
   "source": []
  },
  {
   "cell_type": "code",
   "execution_count": 4,
   "metadata": {},
   "outputs": [],
   "source": [
    "n.saveModel(\"models/mnist\")"
   ]
  },
  {
   "cell_type": "code",
   "execution_count": 15,
   "metadata": {},
   "outputs": [],
   "source": [
    "# number of input, hidden and output nodes\n",
    "input_nodes = 784\n",
    "hidden_nodes = 200\n",
    "output_nodes = 10\n",
    "# learning rate is\n",
    "learning_rate = 0.1\n",
    "# create instance of neural network\n",
    "n = neuralNetwork(input_nodes,hidden_nodes,output_nodes, learning_rate)\n",
    "n.loadModel(\"models/mnist1524245909.173807\")"
   ]
  },
  {
   "cell_type": "code",
   "execution_count": 17,
   "metadata": {
    "scrolled": true
   },
   "outputs": [
    {
     "data": {
      "text/plain": [
       "<matplotlib.image.AxesImage at 0x2071b9c3240>"
      ]
     },
     "execution_count": 17,
     "metadata": {},
     "output_type": "execute_result"
    },
    {
     "data": {
      "image/png": "[encoded data removed]",
      "text/plain": [
       "<matplotlib.figure.Figure at 0x2071b88da90>"
      ]
     },
     "metadata": {},
     "output_type": "display_data"
    }
   ],
   "source": [
    "import numpy\n",
    "import matplotlib.pyplot\n",
    "#to NOT display the image in a different window\n",
    "%matplotlib inline\n",
    "data_file= open(\"MNIST/mnist_test.csv\", 'r')\n",
    "data_list= data_file.readlines()\n",
    "data_file.close()\n",
    "all_values= data_list[300].split(',')\n",
    "#The [1:] takes all the values in array except the first one,which in out case is the label value.\n",
    "#numpy.asfarray() is a numpy function to convert the text strings into real numbers and to create an array of those numbers\n",
    "#.reshape((28,28)) makes sure the list of number is wrapped around every 28 elements to make a square matrix 28 by 28\n",
    "image_array= numpy.asfarray(all_values[1:]).reshape((28,28))\n",
    "#select a greyscale colour palette with cmap=’Greys’ to better show the handwritten characters.\n",
    "matplotlib.pyplot.imshow(image_array, cmap='Greys', interpolation='None')"
   ]
  },
  {
   "cell_type": "code",
   "execution_count": 18,
   "metadata": {},
   "outputs": [
    {
     "name": "stdout",
     "output_type": "stream",
     "text": [
      "0:[0.0009938]\n",
      "1:[0.08119644]\n",
      "2:[0.00583485]\n",
      "3:[0.00263129]\n",
      "4:[0.95674617]\n",
      "5:[0.00010527]\n",
      "6:[0.1277421]\n",
      "7:[0.01658217]\n",
      "8:[1.58728942e-05]\n",
      "9:[0.00127374]\n",
      "I guessed 4 with a value of [0.95674617]\n"
     ]
    }
   ],
   "source": [
    "output = n.query((numpy.asfarray(all_values[1:]) / 255.0 * 0.99) + 0.01)\n",
    "highest = 0\n",
    "highest_n = 0\n",
    "for index, value in enumerate(output):\n",
    "    print(str(index) + \":\" + str(value))\n",
    "    if value > highest:\n",
    "        highest = value\n",
    "        highest_n = index\n",
    "print(\"I guessed \" + str(highest_n) + \" with a value of \" + str(highest))\n"
   ]
  },
  {
   "cell_type": "code",
   "execution_count": 19,
   "metadata": {},
   "outputs": [
    {
     "name": "stdout",
     "output_type": "stream",
     "text": [
      "performance =  0.9732\n"
     ]
    }
   ],
   "source": [
    "# load the mnist test data CSV file into a list\n",
    "test_data_file = open(\"MNIST/mnist_test.csv\", 'r')\n",
    "test_data_list = test_data_file.readlines()\n",
    "test_data_file.close()\n",
    "# test the neural network\n",
    "# scorecard for how well the network performs, initially empty\n",
    "scorecard = []\n",
    "#go through all the records in the test data set\n",
    "for record in test_data_list:\n",
    "    all_values=record.split(',')\n",
    "    correct_label=int(all_values[0])\n",
    "    inputs=(numpy.asfarray(all_values[1:]) / 255.0 * 0.99) + 0.01\n",
    "    outputs=n.query(inputs)\n",
    "    label = numpy.argmax(outputs)\n",
    "    if label == correct_label:\n",
    "        scorecard.append(1)\n",
    "    else:\n",
    "        scorecard.append(0)\n",
    "        pass\n",
    "    pass \n",
    "# calculate the performance score, the fraction of correct answers\n",
    "scorecard_array = numpy.asarray(scorecard)\n",
    "print (\"performance = \", scorecard_array.sum() / scorecard_array.size)"
   ]
  },
  {
   "cell_type": "code",
   "execution_count": null,
   "metadata": {},
   "outputs": [],
   "source": []
  }
 ],
 "metadata": {
  "kernelspec": {
   "display_name": "Python 3",
   "language": "python",
   "name": "python3"
  },
  "language_info": {
   "codemirror_mode": {
    "name": "ipython",
    "version": 3
   },
   "file_extension": ".py",
   "mimetype": "text/x-python",
   "name": "python",
   "nbconvert_exporter": "python",
   "pygments_lexer": "ipython3",
   "version": "3.6.4"
  }
 },
 "nbformat": 4,
 "nbformat_minor": 2
}
