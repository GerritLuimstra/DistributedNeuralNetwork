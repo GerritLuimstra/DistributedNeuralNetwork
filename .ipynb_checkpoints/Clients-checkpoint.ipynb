{
 "cells": [
  {
   "cell_type": "code",
   "execution_count": 1,
   "metadata": {},
   "outputs": [],
   "source": [
    "from NeuralNetwork import NeuralNetwork, train_nn, performance, split\n",
    "from time import time"
   ]
  },
  {
   "cell_type": "code",
   "execution_count": null,
   "metadata": {},
   "outputs": [
    {
     "name": "stdout",
     "output_type": "stream",
     "text": [
      "Training dataset: 0\n",
      "Time: 53.149 seconds\n",
      "Accuracy: a whopping 94.01%\n",
      "Model was saved\n",
      "\n",
      "Training dataset: 1\n",
      "Time: 52.834 seconds\n",
      "Accuracy: a whopping 94.86%\n",
      "Model was saved\n",
      "\n",
      "Training dataset: 2\n",
      "Time: 52.501 seconds\n",
      "Accuracy: a whopping 94.38%\n",
      "Model was saved\n",
      "\n",
      "Training dataset: 3\n",
      "Time: 56.063 seconds\n",
      "Accuracy: a whopping 94.01%\n",
      "Model was saved\n",
      "\n",
      "Training dataset: 4\n"
     ]
    }
   ],
   "source": [
    "# number of input, hidden and output nodes\n",
    "input_nodes = 784\n",
    "hidden_nodes = 200\n",
    "output_nodes = 10\n",
    "learning_rate = 0.1\n",
    "\n",
    "dataset_count = 8\n",
    "for i in range(0, dataset_count):\n",
    "    \n",
    "    # Create the neural network object\n",
    "    n = NeuralNetwork(input_nodes, hidden_nodes, output_nodes, learning_rate)\n",
    "\n",
    "    # Load the server model\n",
    "    n.loadModel(\"models/server\")\n",
    "    \n",
    "    print(\"Training dataset: \" + str(i))\n",
    "\n",
    "    start = time()\n",
    "    # Possibly train a neural network\n",
    "    train_nn(n, data_set = \"dataset\" + str(i) + \".csv\", epochs = 5)\n",
    "    \n",
    "    print(\"Time: \" + str(round(time() - start, ndigits=3)) + \" seconds\")\n",
    "    \n",
    "    print(\"Accuracy: \" + str(performance(n) * 100) + \"%\")\n",
    "\n",
    "    # Save the model\n",
    "    n.saveModel(\"models/mnist\")\n",
    "    print(\"Model was saved\")\n",
    "    print(\"\")\n",
    "\n",
    "\n"
   ]
  },
  {
   "cell_type": "code",
   "execution_count": null,
   "metadata": {},
   "outputs": [],
   "source": []
  }
 ],
 "metadata": {
  "kernelspec": {
   "display_name": "Python 3",
   "language": "python",
   "name": "python3"
  },
  "language_info": {
   "codemirror_mode": {
    "name": "ipython",
    "version": 3
   },
   "file_extension": ".py",
   "mimetype": "text/x-python",
   "name": "python",
   "nbconvert_exporter": "python",
   "pygments_lexer": "ipython3",
   "version": "3.6.4"
  }
 },
 "nbformat": 4,
 "nbformat_minor": 2
}
